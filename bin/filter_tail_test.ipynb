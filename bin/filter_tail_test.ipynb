{
 "cells": [
  {
   "cell_type": "code",
   "execution_count": 1,
   "id": "56bdf96c-e98e-4624-8a59-21ffc587d7c5",
   "metadata": {},
   "outputs": [
    {
     "name": "stdout",
     "output_type": "stream",
     "text": [
      "Defaulting to user installation because normal site-packages is not writeable\n",
      "Collecting biopython\n",
      "  Downloading biopython-1.81-cp39-cp39-manylinux_2_17_x86_64.manylinux2014_x86_64.whl (3.1 MB)\n",
      "\u001b[K     |████████████████████████████████| 3.1 MB 5.7 MB/s eta 0:00:01\n",
      "\u001b[?25hRequirement already satisfied: numpy in /users/PAS1473/benpasto1/.local/lib/python3.9/site-packages (from biopython) (1.23.3)\n",
      "Installing collected packages: biopython\n",
      "Successfully installed biopython-1.81\n",
      "Note: you may need to restart the kernel to use updated packages.\n"
     ]
    }
   ],
   "source": [
    "pip install biopython"
   ]
  },
  {
   "cell_type": "code",
   "execution_count": 2,
   "id": "82ac0a60-a5b9-4009-b027-b2f545238d79",
   "metadata": {},
   "outputs": [],
   "source": [
    "import sys\n",
    "import os\n",
    "import pandas as pd\n",
    "import itertools\n",
    "import argparse\n",
    "from Bio.Seq import Seq\n",
    "from Bio import SeqIO\n",
    "from alternating_string import is_alternating\n",
    "from tailor_match import filter_tails\n",
    "\n",
    "fasta = \"/fs/ess/PCON0160/ben/genomes/c_elegans/WS279/c_elegans.PRJNA13758.WS279.genomic.fa\"\n",
    "records = SeqIO.to_dict(SeqIO.parse(fasta, 'fasta')) "
   ]
  },
  {
   "cell_type": "code",
   "execution_count": 2,
   "id": "71f8f5a2-7fb5-4a70-a405-09f28c02ae9b",
   "metadata": {},
   "outputs": [],
   "source": [
    "# test case, from sequencing, should be true\n",
    "filter_tails(\n",
    "    sequence = \"TAAGGAGTGTTTGCAACAAAAAAAAGTT\",\n",
    "    tail = \"T\",\n",
    "    chrom = \"I\", \n",
    "    start = 31522, \n",
    "    end = 31549, \n",
    "    strand = \"+\",\n",
    "    records = records, \n",
    "    N = 4\n",
    ")"
   ]
  },
  {
   "cell_type": "code",
   "execution_count": 4,
   "id": "2ae12fc2-d94b-4485-aee4-4ca362d0f6c8",
   "metadata": {},
   "outputs": [
    {
     "name": "stdout",
     "output_type": "stream",
     "text": [
      "Sequence: TAAGGAGTGTTTGCAACAAAAAAAAAAT\n",
      "Tail: T\n",
      "Last 4 nucleotides: AAAA\n",
      "Last 4 nucleodies are the same (AAAA)....fail\n"
     ]
    },
    {
     "data": {
      "text/plain": [
       "False"
      ]
     },
     "execution_count": 4,
     "metadata": {},
     "output_type": "execute_result"
    }
   ],
   "source": [
    "# make last 4 same character, should be false\n",
    "filter_tails(\n",
    "    sequence = \"TAAGGAGTGTTTGCAACAAAAAAAAAAT\",\n",
    "    tail = \"T\",\n",
    "    chrom = \"I\", \n",
    "    start = 31522, \n",
    "    end = 31549, \n",
    "    strand = \"+\",\n",
    "    records = records, \n",
    "    N = 4\n",
    ")"
   ]
  },
  {
   "cell_type": "code",
   "execution_count": 5,
   "id": "b4ff70ae-0f87-4423-b26b-bd0ab2b4e3a5",
   "metadata": {},
   "outputs": [
    {
     "name": "stdout",
     "output_type": "stream",
     "text": [
      "Sequence: TAAGGAGTGTTTGCAACAAAAAAAAGTTT\n",
      "Tail: TT\n",
      "Last 4 nucleotides: AAGT\n",
      "TAAGGAGTGTTTGCAACAAAAAAAAGTAG\n",
      "Edit distance == tail length..pass\n"
     ]
    },
    {
     "data": {
      "text/plain": [
       "True"
      ]
     },
     "execution_count": 5,
     "metadata": {},
     "output_type": "execute_result"
    }
   ],
   "source": [
    "# make 2 nucleotide tail TT, should be true\n",
    "filter_tails(\n",
    "    sequence = \"TAAGGAGTGTTTGCAACAAAAAAAAGTTT\",\n",
    "    tail = \"TT\",\n",
    "    chrom = \"I\", \n",
    "    start = 31522, \n",
    "    end = 31549, \n",
    "    strand = \"+\",\n",
    "    records = records, \n",
    "    N = 4\n",
    ")"
   ]
  },
  {
   "cell_type": "code",
   "execution_count": 6,
   "id": "9198ab7c-8449-4a9d-a7b0-0ac34d663e85",
   "metadata": {},
   "outputs": [
    {
     "name": "stdout",
     "output_type": "stream",
     "text": [
      "Sequence: TAAGGAGTGTTTGCAACAAAAAAAAGTTG\n",
      "Tail: TG\n",
      "Last 4 nucleotides: AAGT\n",
      "TAAGGAGTGTTTGCAACAAAAAAAAGTAG\n",
      "Edit distance does not equal tail length: TAAGGAGTGTTTGCAACAAAAAAAAGTTG vs. TAAGGAGTGTTTGCAACAAAAAAAAGTAG with tail TG\n",
      "check for alternating tail...\n",
      "Other tail not meeting some specification...fail\n"
     ]
    },
    {
     "data": {
      "text/plain": [
       "False"
      ]
     },
     "execution_count": 6,
     "metadata": {},
     "output_type": "execute_result"
    }
   ],
   "source": [
    "# make 2 nucleotide tail TG, should be false\n",
    "filter_tails(\n",
    "    sequence = \"TAAGGAGTGTTTGCAACAAAAAAAAGTTG\",\n",
    "    tail = \"TG\",\n",
    "    chrom = \"I\", \n",
    "    start = 31522, \n",
    "    end = 31549, \n",
    "    strand = \"+\",\n",
    "    records = records, \n",
    "    N = 4\n",
    ")"
   ]
  },
  {
   "cell_type": "code",
   "execution_count": 7,
   "id": "a43e803c-632c-43d1-96fa-1752b43e1525",
   "metadata": {},
   "outputs": [
    {
     "name": "stdout",
     "output_type": "stream",
     "text": [
      "Sequence: TAAGGAGTGTTTGCAACAAAAAAAAGTTT\n",
      "Tail: TGT\n",
      "Last 4 nucleotides: AAAG\n",
      "TAAGGAGTGTTTGCAACAAAAAAAAGTAGG\n",
      "Edit distance does not equal tail length: TAAGGAGTGTTTGCAACAAAAAAAAGTTT vs. TAAGGAGTGTTTGCAACAAAAAAAAGTAGG with tail TGT\n",
      "check for alternating tail...\n",
      "Tail is alternating...pass\n"
     ]
    },
    {
     "data": {
      "text/plain": [
       "True"
      ]
     },
     "execution_count": 7,
     "metadata": {},
     "output_type": "execute_result"
    }
   ],
   "source": [
    "# make 3 nucleotide tail TGT, should be true\n",
    "filter_tails(\n",
    "    sequence = \"TAAGGAGTGTTTGCAACAAAAAAAAGTTT\",\n",
    "    tail = \"TGT\",\n",
    "    chrom = \"I\", \n",
    "    start = 31522, \n",
    "    end = 31549, \n",
    "    strand = \"+\",\n",
    "    records = records, \n",
    "    N = 4\n",
    ")"
   ]
  },
  {
   "cell_type": "code",
   "execution_count": 8,
   "id": "c7c0aafc-b0d2-437a-b62e-8241a2a908dc",
   "metadata": {},
   "outputs": [
    {
     "name": "stdout",
     "output_type": "stream",
     "text": [
      "Sequence: TAAGGAGTGTTTGCAACAAAAAAAAGTTGT\n",
      "Tail: TGT\n",
      "Last 4 nucleotides: AAGT\n",
      "TAAGGAGTGTTTGCAACAAAAAAAAGTAGG\n",
      "Edit distance does not equal tail length: TAAGGAGTGTTTGCAACAAAAAAAAGTTGT vs. TAAGGAGTGTTTGCAACAAAAAAAAGTAGG with tail TGT\n",
      "check for alternating tail...\n",
      "Tail is alternating...pass\n"
     ]
    },
    {
     "data": {
      "text/plain": [
       "True"
      ]
     },
     "execution_count": 8,
     "metadata": {},
     "output_type": "execute_result"
    }
   ],
   "source": [
    "# make  nucleotide tail TGT, should be true\n",
    "filter_tails(\n",
    "    sequence = \"TAAGGAGTGTTTGCAACAAAAAAAAGTTGT\",\n",
    "    tail = \"TGT\",\n",
    "    chrom = \"I\", \n",
    "    start = 31522, \n",
    "    end = 31549, \n",
    "    strand = \"+\",\n",
    "    records = records, \n",
    "    N = 4\n",
    ")"
   ]
  },
  {
   "cell_type": "code",
   "execution_count": 9,
   "id": "7f3c16cb-ca0f-4d17-8f70-b51939bc2b9c",
   "metadata": {},
   "outputs": [
    {
     "name": "stdout",
     "output_type": "stream",
     "text": [
      "Sequence: TAAGGAGTGTTTGCAACAAAAAAAAGTTGTG\n",
      "Tail: TGTG\n",
      "Last 4 nucleotides: AAGT\n",
      "TAAGGAGTGTTTGCAACAAAAAAAAGTAGGT\n",
      "Tail is alternating...pass\n"
     ]
    },
    {
     "data": {
      "text/plain": [
       "True"
      ]
     },
     "execution_count": 9,
     "metadata": {},
     "output_type": "execute_result"
    }
   ],
   "source": [
    "# make  nucleotide tail TGT, should be true\n",
    "filter_tails(\n",
    "    sequence = \"TAAGGAGTGTTTGCAACAAAAAAAAGTTGTG\",\n",
    "    tail = \"TGTG\",\n",
    "    chrom = \"I\", \n",
    "    start = 31522, \n",
    "    end = 31549, \n",
    "    strand = \"+\",\n",
    "    records = records, \n",
    "    N = 4\n",
    ")"
   ]
  },
  {
   "cell_type": "code",
   "execution_count": null,
   "id": "63d538a1-8edc-4d36-a92d-6cf10735c234",
   "metadata": {},
   "outputs": [],
   "source": [
    "# check some minus strand examples"
   ]
  },
  {
   "cell_type": "code",
   "execution_count": 1,
   "id": "2d7f6502-d6e2-4685-a33d-2d58be0d1d6c",
   "metadata": {},
   "outputs": [],
   "source": [
    "import sys\n",
    "import os\n",
    "import pandas as pd\n",
    "import itertools\n",
    "import argparse\n",
    "from Bio.Seq import Seq\n",
    "from Bio import SeqIO\n",
    "from alternating_string import is_alternating\n",
    "from tailor_match import filter_tails\n",
    "\n",
    "fasta = \"/fs/ess/PCON0160/ben/genomes/c_elegans/WS279/c_elegans.PRJNA13758.WS279.genomic.fa\"\n",
    "records = SeqIO.to_dict(SeqIO.parse(fasta, 'fasta')) "
   ]
  },
  {
   "cell_type": "code",
   "execution_count": 2,
   "id": "1c30c7e4-2744-43d7-adfa-c1c4f58c764e",
   "metadata": {},
   "outputs": [
    {
     "name": "stdout",
     "output_type": "stream",
     "text": [
      "Sequence: TACAATGATGATGATGAGGATGTG\n",
      "Tail: G\n",
      "Last 4 nucleotides: ATGT\n",
      "Print tail length is 1...pass\n"
     ]
    },
    {
     "data": {
      "text/plain": [
       "True"
      ]
     },
     "execution_count": 2,
     "metadata": {},
     "output_type": "execute_result"
    }
   ],
   "source": [
    "# I       272600  272623  TACAATGATGATGATGAGGATGTG:G      1.0     -       sense   piRNA   none    piRNA   1       21      WBGene00169222  C53D5.8 21ur-15400      0.04746753335871926\n",
    "filter_tails(\n",
    "    sequence = \"TACAATGATGATGATGAGGATGTG\",\n",
    "    tail = \"G\",\n",
    "    chrom = \"I\", \n",
    "    start = 272600, \n",
    "    end = 272623, \n",
    "    strand = \"-\",\n",
    "    records = records, \n",
    "    N = 4\n",
    ")\n"
   ]
  },
  {
   "cell_type": "code",
   "execution_count": 3,
   "id": "a74184b5-37a8-4ad5-aa37-e38460c602c7",
   "metadata": {},
   "outputs": [
    {
     "name": "stdout",
     "output_type": "stream",
     "text": [
      "Sequence: TACAATGATGATGATGAGGATGTGGC\n",
      "Tail: GGC\n",
      "Last 4 nucleotides: ATGT\n",
      "TACAATGATGATGATGAGGATGTATG\n",
      "Edit distance == tail length TACAATGATGATGATGAGGATGTGGC (seq) vs. TACAATGATGATGATGAGGATGTATG (ref) with tail GGC..pass\n"
     ]
    },
    {
     "data": {
      "text/plain": [
       "True"
      ]
     },
     "execution_count": 3,
     "metadata": {},
     "output_type": "execute_result"
    }
   ],
   "source": [
    "filter_tails(\n",
    "    sequence = \"TACAATGATGATGATGAGGATGTGGC\",\n",
    "    tail = \"GGC\",\n",
    "    chrom = \"I\", \n",
    "    start = 272600, \n",
    "    end = 272623, \n",
    "    strand = \"-\",\n",
    "    records = records, \n",
    "    N = 4\n",
    ")"
   ]
  },
  {
   "cell_type": "code",
   "execution_count": 5,
   "id": "bbc9d9d1-d332-4d0a-b165-d2733f889053",
   "metadata": {},
   "outputs": [
    {
     "name": "stdout",
     "output_type": "stream",
     "text": [
      "Sequence: TACAATGATGATGATGAGGATGTGTGTGTGT\n",
      "Tail: GTGTGTGT\n",
      "Last 4 nucleotides: ATGT\n",
      "TACAATGATGATGATGAGGATGTATGTGCAA\n",
      "Tail is alternating...pass\n"
     ]
    },
    {
     "data": {
      "text/plain": [
       "True"
      ]
     },
     "execution_count": 5,
     "metadata": {},
     "output_type": "execute_result"
    }
   ],
   "source": [
    "filter_tails(\n",
    "    sequence = \"TACAATGATGATGATGAGGATGTGTGTGTGT\",\n",
    "    tail = \"GTGTGTGT\",\n",
    "    chrom = \"I\", \n",
    "    start = 272600, \n",
    "    end = 272623, \n",
    "    strand = \"-\",\n",
    "    records = records, \n",
    "    N = 4\n",
    ")"
   ]
  }
 ],
 "metadata": {
  "kernelspec": {
   "display_name": "Python 3.9 (Conda 2022.05) [python/3.9-2022.05]",
   "language": "python",
   "name": "python39_202205"
  },
  "language_info": {
   "codemirror_mode": {
    "name": "ipython",
    "version": 3
   },
   "file_extension": ".py",
   "mimetype": "text/x-python",
   "name": "python",
   "nbconvert_exporter": "python",
   "pygments_lexer": "ipython3",
   "version": "3.9.12"
  }
 },
 "nbformat": 4,
 "nbformat_minor": 5
}
