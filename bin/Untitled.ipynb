{
 "cells": [
  {
   "cell_type": "code",
   "execution_count": 19,
   "id": "709c41e5-ad38-49c5-8697-63dcd7aa25e2",
   "metadata": {},
   "outputs": [],
   "source": [
    "import sys\n",
    "import os\n",
    "import pandas as pd\n",
    "import itertools\n",
    "import argparse\n",
    "from Bio.Seq import Seq\n",
    "from Bio import SeqIO\n",
    "from alternating_string import is_alternating\n",
    "\n",
    "def filter_tails(sequence, tail, chrom, start, end, strand, records, N = False) :\n",
    "\n",
    "    \"\"\"\n",
    "    A function to filter reads where the length of the tail is not equal to the edit distance to the reference seq.\n",
    "\n",
    "    Also I will filter sequences based on 4 preceeding nucleotides before tail to remove possible sequencing errors. \n",
    "    (must be the same NT repeated N times)\n",
    "\n",
    "    Exceptions : \n",
    "    1. If the tail length is <= 2 keep it \n",
    "    2. If the tail is homogenously one nucleotide aka TTTTTTT or AAAAAAAA keep it \n",
    "    \"\"\"\n",
    "\n",
    "    tail_length = len(tail)\n",
    "\n",
    "    if N : \n",
    "        N = N\n",
    "    else : \n",
    "        N = 4\n",
    "\n",
    "    print(f\"Sequence: {sequence}\")\n",
    "    print(f\"Tail: {tail}\")\n",
    "\n",
    "    complement = {'A': 'T', 'C': 'G', 'G': 'C', 'T': 'A'}\n",
    "\n",
    "    seq_minus_tail = sequence[:-int(tail_length)]\n",
    "    \n",
    "    lastN = seq_minus_tail[-int(N):]\n",
    "    #print(f\"Last {N} nucleotides: {lastN}\")\n",
    "\n",
    "    if len(set(lastN)) == 1 :\n",
    "        print(f\"Last 4 nucleodies are the same ({lastN})....fail\")\n",
    "        return False\n",
    "\n",
    "    # len(set(tail)) == 1 or \n",
    "    if tail_length == 1 or is_alternating(tail) : \n",
    "        return True\n",
    "    \n",
    "    else :\n",
    "        if strand == \"+\" :\n",
    "            ref = str(records[chrom][start : end + tail_length].seq)\n",
    "        else : \n",
    "            fwd = records[chrom][start - tail_length : end ].seq\n",
    "            seq_obj = Seq(fwd)\n",
    "            ref = str(seq_obj.reverse_complement())\n",
    "        \n",
    "        edit_distance = sum(1 for a, b in zip(sequence, ref) if a != b)\n",
    "\n",
    "        if len(tail) >= 4 and len(set(tail)) == 1 : \n",
    "            return True \n",
    "\n",
    "        if edit_distance == tail_length :\n",
    "            print(f\"Edit distance == tail length {sequence} (seq) vs. {ref} (ref) with tail {tail}..pass\")\n",
    "            return True\n",
    "            \n",
    "        else : \n",
    "            print(f\"Edit distance does not equal tail length: {sequence} (seq) vs. {ref} (ref) with tail {tail}...return false\")\n",
    "            return False\n",
    "\n",
    "    #print(\"Other tail not meeting some specification...fail\")\n",
    "    return False\n"
   ]
  },
  {
   "cell_type": "code",
   "execution_count": 20,
   "id": "500f562c-299c-4e95-8841-7c37112cdeeb",
   "metadata": {},
   "outputs": [],
   "source": [
    "file = '/fs/ess/PCON0160/ben/projects/2024_A_disl2_degrades_piRNAs/results_time_course/20240428/tailor_transcripts/files/TOFU5_Degron_rep1_TP6_S21_R1.trimmed.uniq.xartifacts.v0.m1000.transcripts.bed.tsv'\n",
    "records = SeqIO.to_dict(SeqIO.parse('/fs/ess/PCON0160/ben/genomes/c_elegans/WS279/piRNA.15nt_3p_extension.fa', 'fasta'))"
   ]
  },
  {
   "cell_type": "code",
   "execution_count": 21,
   "id": "2134471c-b4c4-40e4-8a37-46177d5126c5",
   "metadata": {},
   "outputs": [
    {
     "name": "stdout",
     "output_type": "stream",
     "text": [
      "Sequence: TGTTTTGTTCAGAAATGCGGG\n",
      "Tail: GG\n",
      "Edit distance does not equal tail length: TGTTTTGTTCAGAAATGCGGG (seq) vs. TGTTTTGTTCAGAAATGCGTG (ref) with tail GG...return false\n"
     ]
    }
   ],
   "source": [
    "with open(file, 'r') as f : \n",
    "    for line in f : \n",
    "        if not line.startswith(\"gene\") :\n",
    "            info = line.strip().split(\"\\t\") \n",
    "            chrom = info[0]\n",
    "            start = int(info[1])\n",
    "            end = int(info[2])\n",
    "            seq = info[3]\n",
    "            count = info[4]\n",
    "            strand = info[5]\n",
    "            tail = info[7]\n",
    "            \n",
    "            if not tail == \"*\" :\n",
    "                if seq == \"TGTTTTGTTCAGAAATGCGGG\" : \n",
    "                    filter_tails(seq, tail, chrom, start, end, strand, records, N = False)\n",
    "            \n",
    "        "
   ]
  },
  {
   "cell_type": "code",
   "execution_count": null,
   "id": "77e2fe80-1494-4634-a4fd-2b6bc660d721",
   "metadata": {},
   "outputs": [],
   "source": []
  },
  {
   "cell_type": "code",
   "execution_count": null,
   "id": "bf80e825-0ade-4e16-a3e3-802e08305848",
   "metadata": {},
   "outputs": [],
   "source": []
  }
 ],
 "metadata": {
  "kernelspec": {
   "display_name": "Python 3.9 (Conda 2022.05) [python/3.9-2022.05]",
   "language": "python",
   "name": "python39_202205"
  },
  "language_info": {
   "codemirror_mode": {
    "name": "ipython",
    "version": 3
   },
   "file_extension": ".py",
   "mimetype": "text/x-python",
   "name": "python",
   "nbconvert_exporter": "python",
   "pygments_lexer": "ipython3",
   "version": "3.9.12"
  }
 },
 "nbformat": 4,
 "nbformat_minor": 5
}
